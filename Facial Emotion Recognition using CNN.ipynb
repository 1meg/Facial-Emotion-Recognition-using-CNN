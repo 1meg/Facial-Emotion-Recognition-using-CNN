{
 "cells": [
  {
   "cell_type": "code",
   "execution_count": null,
   "metadata": {
    "id": "kiZbuZDfWDLU"
   },
   "outputs": [],
   "source": [
    "# Importing necessary libraries\n",
    "import tensorflow as tf\n",
    "import matplotlib.pyplot as plt\n",
    "import cv2\n",
    "import os\n",
    "import numpy as np\n",
    "from tensorflow.keras.preprocessing.image import ImageDataGenerator\n",
    "from tensorflow.keras.optimizers import RMSprop\n",
    "from tensorflow.keras.preprocessing  import image\n",
    "import pandas as pd"
   ]
  },
  {
   "cell_type": "code",
   "execution_count": null,
   "metadata": {
    "colab": {
     "base_uri": "https://localhost:8080/"
    },
    "id": "9TGDLGH6Aiui",
    "outputId": "ae4c43eb-330f-42b4-ccb4-945e4574f3ef"
   },
   "outputs": [
    {
     "name": "stdout",
     "output_type": "stream",
     "text": [
      "Mounted at /content/drive\n"
     ]
    }
   ],
   "source": [
    "# Mounting Google Drive to access the dataset\n",
    "from google.colab import drive\n",
    "drive.mount('/content/drive')"
   ]
  },
  {
   "cell_type": "code",
   "execution_count": null,
   "metadata": {
    "colab": {
     "base_uri": "https://localhost:8080/",
     "height": 451
    },
    "id": "afPipOvJZ80a",
    "outputId": "57b2dddc-3d4f-4b36-a361-c6d2a4ed877e"
   },
   "outputs": [],
   "source": [
    "# Load and display an image from the dataset \n",
    "img = image.load_img(\"/content/drive/MyDrive/ project 1/DATASET/TRAIN/happy/Screenshot 2023-04-14 221802.png\")\n",
    "plt.imshow(img)"
   ]
  },
  {
   "cell_type": "code",
   "execution_count": null,
   "metadata": {
    "colab": {
     "base_uri": "https://localhost:8080/"
    },
    "id": "huxMWY7hbAgY",
    "outputId": "21ed225b-159a-42b1-a4d0-e88ffcd30f95"
   },
   "outputs": [
    {
     "data": {
      "text/plain": [
       "(224, 159, 3)"
      ]
     },
     "execution_count": 5,
     "metadata": {},
     "output_type": "execute_result"
    }
   ],
   "source": [
    "# Check the shape of an image using OpenCV\n",
    "cv2.imread(\"/content/drive/MyDrive/ project 1/DATASET/TRAIN/anger/Screenshot 2023-04-13 130831.png\").shape"
   ]
  },
  {
   "cell_type": "code",
   "execution_count": null,
   "metadata": {
    "id": "t-cr6A7qWGMy"
   },
   "outputs": [],
   "source": [
    "# Define directories for training and validation datasets\n",
    "train_directory = \"/content/drive/MyDrive/ project 1/DATASET/TRAIN\"\n",
    "val_directory = \"/content/drive/MyDrive/ project 1/DATASET/validation\""
   ]
  },
  {
   "cell_type": "code",
   "execution_count": null,
   "metadata": {
    "id": "zHLdN3InWGKu"
   },
   "outputs": [],
   "source": [
    "# Rescaling pixel values for normalization (1/255 to scale values between 0 and 1)\n",
    "train = ImageDataGenerator(rescale=1/255)\n",
    "validation = ImageDataGenerator(rescale=1/255)"
   ]
  },
  {
   "cell_type": "code",
   "execution_count": null,
   "metadata": {
    "colab": {
     "base_uri": "https://localhost:8080/"
    },
    "id": "eB55aiVVWGHw",
    "outputId": "cd57e859-13f3-4d5c-830f-3ec26a6f965d"
   },
   "outputs": [],
   "source": [
    "# Loading training dataset and preprocessing images\n",
    "train_dataset = train.flow_from_directory('/content/drive/MyDrive/ project 1/DATASET/TRAIN',\n",
    "                           target_size=(224,224),\n",
    "                           batch_size = 32,\n",
    "                           class_mode = 'categorical')\n",
    "\n",
    "# Loading validation dataset and preprocessing images\n",
    "validation_dataset = validation.flow_from_directory('/content/drive/MyDrive/ project 1/DATASET/validation',\n",
    "                           target_size=(224,224),\n",
    "                           batch_size = 32,\n",
    "                           class_mode = 'categorical')"
   ]
  },
  {
   "cell_type": "code",
   "execution_count": null,
   "metadata": {
    "colab": {
     "base_uri": "https://localhost:8080/"
    },
    "id": "2APPUoKXWGEq",
    "outputId": "57f4182b-6ed5-4ec7-fc7d-39d6b6d9010b"
   },
   "outputs": [],
   "source": [
    "# Checking class indices for the dataset\n",
    "train_dataset.class_indices"
   ]
  },
  {
   "cell_type": "code",
   "execution_count": null,
   "metadata": {
    "colab": {
     "base_uri": "https://localhost:8080/"
    },
    "id": "1bRJXKyPWGBq",
    "outputId": "50fe5137-59d0-4799-936d-031fc5087ccf"
   },
   "outputs": [],
   "source": [
    "# Checking class labels for the dataset\n",
    "train_dataset.classes"
   ]
  },
  {
   "cell_type": "code",
   "execution_count": null,
   "metadata": {
    "id": "ldmlvs5TWF_U"
   },
   "outputs": [],
   "source": [
    "# Building the CNN model\n",
    "from tensorflow.keras import Model\n",
    "model = tf.keras.models.Sequential([\n",
    "                                    tf.keras.layers.Conv2D(32, (3, 3), activation='relu', input_shape=(224, 224, 3)),\n",
    "                                    tf.keras.layers.MaxPool2D(2, 2),\n",
    "                                    tf.keras.layers.Dropout(0.1),\n",
    "\n",
    "                                    tf.keras.layers.Conv2D(64, (3, 3), activation='relu'),\n",
    "                                    tf.keras.layers.MaxPool2D(2, 2),\n",
    "                                    tf.keras.layers.Dropout(0.1),\n",
    "\n",
    "                                    tf.keras.layers.Conv2D(128, (3, 3), activation='relu'),\n",
    "                                    tf.keras.layers.MaxPool2D(2, 2),\n",
    "                                    tf.keras.layers.Dropout(0.1),\n",
    "\n",
    "                                    tf.keras.layers.Flatten(),\n",
    "                                    tf.keras.layers.Dense(256, activation='relu'),\n",
    "                                    tf.keras.layers.Dropout(0.2),\n",
    "                                    tf.keras.layers.Dense(5, activation='softmax')\n",
    "                                  ])"
   ]
  },
  {
   "cell_type": "code",
   "execution_count": null,
   "metadata": {
    "colab": {
     "base_uri": "https://localhost:8080/"
    },
    "id": "_v3ey-1MWF8e",
    "outputId": "9b8b6e17-ba27-4269-f95b-b20576ecf7b3"
   },
   "outputs": [],
   "source": [
    "# Compiling the model with categorical cross-entropy loss and RMSprop optimizer\n",
    "model.compile(loss='categorical_crossentropy',\n",
    "              optimizer = RMSprop(learning_rate=0.001),\n",
    "              metrics =['accuracy'])\n",
    "model.summary()"
   ]
  },
  {
   "cell_type": "code",
   "execution_count": null,
   "metadata": {
    "colab": {
     "base_uri": "https://localhost:8080/"
    },
    "id": "Yvt8wiLDWF51",
    "outputId": "4b27a5b8-856e-4fc3-929f-4ac6ccff0518"
   },
   "outputs": [],
   "source": [
    "# Displaying the model summary\n",
    "history = model.fit(train_dataset,\n",
    "                      epochs = 10,\n",
    "                      validation_data = validation_dataset)"
   ]
  },
  {
   "cell_type": "code",
   "execution_count": null,
   "metadata": {
    "id": "qeC0XsQQY7EW"
   },
   "outputs": [],
   "source": [
    "# Saving the trained model\n",
    "from tensorflow.keras.models import load_model\n",
    "my_model=model.save('/content/drive/MyDrive/ project 1/saved_model/emotion_detection.h5')"
   ]
  },
  {
   "cell_type": "code",
   "execution_count": null,
   "metadata": {
    "colab": {
     "base_uri": "https://localhost:8080/",
     "height": 860
    },
    "id": "NqtlJo6bWF3N",
    "outputId": "14d65b06-bd3f-4974-fa0f-a7e4cc1f0194"
   },
   "outputs": [],
   "source": [
    "# Plotting training and validation loss\n",
    "import matplotlib.pyplot as plt\n",
    "plt.plot(history.history['loss'],label='train loss')\n",
    "plt.plot(history.history['val_loss'],label='val loss')\n",
    "plt.legend()\n",
    "plt.show()\n",
    "plt.savefig('LossVal_loss')\n",
    "\n",
    "# Plotting training and validation accuracy\n",
    "plt.plot(history.history['accuracy'],label='train acc')\n",
    "plt.plot(history.history['val_accuracy'],label='val acc')\n",
    "plt.legend()\n",
    "plt.show()\n",
    "plt.savefig('AccVal_loss')"
   ]
  },
  {
   "cell_type": "code",
   "execution_count": null,
   "metadata": {
    "colab": {
     "base_uri": "https://localhost:8080/",
     "height": 1000
    },
    "id": "cx2J5919WF0Z",
    "outputId": "2f20fc14-5231-494d-b784-abfed3d00c50"
   },
   "outputs": [],
   "source": [
    "# Predicting emotions for test images\n",
    "import os\n",
    "import matplotlib.pyplot as plt\n",
    "\n",
    "dir_path = \"/content/drive/MyDrive/ project 1/DATASET/TEST (1)\"\n",
    "\n",
    "\n",
    "def predict_emotion(val):\n",
    "    if val == 0:\n",
    "        print('predicted as anger')\n",
    "    elif val == 1:\n",
    "        print('predicted as fear')\n",
    "    elif val == 2:\n",
    "        print('predicted as happy')\n",
    "    elif val == 3:\n",
    "        print('predicted as neutral')\n",
    "    else:\n",
    "        print('predicted as sad')\n",
    "\n",
    "\n",
    "for i in os.listdir(dir_path):\n",
    "    img = image.load_img(dir_path + '//' + i, target_size=(224, 224))\n",
    "    plt.imshow(img)\n",
    "    plt.show()\n",
    "\n",
    "    x = image.img_to_array(img)\n",
    "    x = np.expand_dims(x, axis=0)\n",
    "    images = np.vstack([x])\n",
    "    pred = model.predict(images)\n",
    "    val = np.argmax(pred)\n",
    "    predict_emotion(val)\n"
   ]
  },
  {
   "cell_type": "code",
   "execution_count": null,
   "metadata": {
    "colab": {
     "base_uri": "https://localhost:8080/"
    },
    "id": "xpQrldSaGOal",
    "outputId": "be986d4b-27f9-4076-cbfc-7c53555ba648"
   },
   "outputs": [],
   "source": [
    "# Evaluate the model on the validation dataset\n",
    "loss, accuracy = model.evaluate(validation_dataset)\n",
    "\n",
    "# Print the accuracy of the model\n",
    "print('Accuracy on validation dataset:', accuracy)\n"
   ]
  },
  {
   "cell_type": "code",
   "execution_count": null,
   "metadata": {
    "colab": {
     "base_uri": "https://localhost:8080/"
    },
    "id": "QUImSzNAG8_z",
    "outputId": "7c395fdc-fa9a-474a-dd98-bba5966fdcc5"
   },
   "outputs": [],
   "source": [
    "# Loading and preprocessing the test dataset for evaluation\n",
    "test_directory = \"/content/drive/MyDrive/ project 1/DATASET/TEST\"\n",
    "\n",
    "test = ImageDataGenerator(rescale=1/255)\n",
    "\n",
    "test_dataset = test.flow_from_directory(test_directory,\n",
    "target_size=(224,224),\n",
    "batch_size = 3,\n",
    "class_mode = 'categorical')\n",
    "\n",
    "# Evaluate the model on the test dataset\n",
    "test_loss, test_acc = model.evaluate(test_dataset)\n",
    "\n",
    "print('Test accuracy:', test_acc)"
   ]
  },
  {
   "cell_type": "code",
   "execution_count": null,
   "metadata": {
    "id": "JdLtXf_BG5Ke"
   },
   "outputs": [],
   "source": [
    "class_labels = ['anger','fear','happy','neutral','sad']"
   ]
  },
  {
   "cell_type": "code",
   "execution_count": null,
   "metadata": {
    "colab": {
     "base_uri": "https://localhost:8080/",
     "height": 490
    },
    "id": "uxFljvDWfNCl",
    "outputId": "ed0f40e0-111c-45ab-c448-2fe75a5fc8ba"
   },
   "outputs": [],
   "source": [
    "test_directory = \"/content/drive/MyDrive/ project 1/DATASET/TEST\"\n",
    "test_dataset = validation.flow_from_directory(test_directory,\n",
    "                                              target_size=(224,224),\n",
    "                                              batch_size = 1,\n",
    "                                              class_mode = 'categorical',\n",
    "                                              shuffle=False)\n",
    "test_labels = test_dataset.classes\n",
    "\n",
    "# Predicting class labels for the test dataset\n",
    "test_predictions = model.predict(test_dataset)\n",
    "test_predictions = np.argmax(test_predictions, axis=1)\n",
    "\n",
    "\n",
    "# Confusion matrix visualization\n",
    "from sklearn.metrics import confusion_matrix\n",
    "conf_matrix = confusion_matrix(test_labels, test_predictions)\n",
    "\n",
    "import seaborn as sns\n",
    "sns.heatmap(conf_matrix, annot=True, fmt=\"d\", xticklabels=class_labels, yticklabels=class_labels)\n",
    "plt.xlabel('Predicted')\n",
    "plt.ylabel('True')\n",
    "plt.show()"
   ]
  }
 ],
 "metadata": {
  "accelerator": "GPU",
  "colab": {
   "gpuType": "T4",
   "provenance": []
  },
  "kernelspec": {
   "display_name": "Python 3",
   "name": "python3"
  },
  "language_info": {
   "name": "python"
  }
 },
 "nbformat": 4,
 "nbformat_minor": 0
}
